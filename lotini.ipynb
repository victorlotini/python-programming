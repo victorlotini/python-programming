{
  "nbformat": 4,
  "nbformat_minor": 0,
  "metadata": {
    "colab": {
      "provenance": [],
      "authorship_tag": "ABX9TyPe5VyBvwmL2sL2IUvoWv6N",
      "include_colab_link": true
    },
    "kernelspec": {
      "name": "python3",
      "display_name": "Python 3"
    },
    "language_info": {
      "name": "python"
    }
  },
  "cells": [
    {
      "cell_type": "markdown",
      "metadata": {
        "id": "view-in-github",
        "colab_type": "text"
      },
      "source": [
        "<a href=\"https://colab.research.google.com/github/victorlotini/python-programming/blob/main/lotini.ipynb\" target=\"_parent\"><img src=\"https://colab.research.google.com/assets/colab-badge.svg\" alt=\"Open In Colab\"/></a>"
      ]
    },
    {
      "cell_type": "code",
      "execution_count": null,
      "metadata": {
        "id": "CXJC8t9uAYN_"
      },
      "outputs": [],
      "source": [
        "import pandas as pd\n",
        "lotini  = pd.read_csv('/content/assighnment.csv')\n",
        "lotini.head(7)"
      ]
    },
    {
      "cell_type": "code",
      "source": [
        "duplicates_casualty = lotini[lotini['Age_of_Casualty'].duplicated()]\n",
        "duplicates_engine = lotini[lotini['Engine_Capacity_(CC)'].duplicated()]\n",
        "print(duplicates_casualty)\n",
        "print(duplicates_engine)"
      ],
      "metadata": {
        "id": "pmP48Wl1BDGk"
      },
      "execution_count": null,
      "outputs": []
    },
    {
      "cell_type": "code",
      "source": [
        "unique_values = lotini.value_counts()\n",
        "print(unique_values)"
      ],
      "metadata": {
        "id": "p-IxnvPuBHmD"
      },
      "execution_count": null,
      "outputs": []
    },
    {
      "cell_type": "code",
      "source": [
        "null = lotini.isnull().sum()\n",
        "print(null)"
      ],
      "metadata": {
        "id": "VseMh_s0BLCM"
      },
      "execution_count": null,
      "outputs": []
    },
    {
      "cell_type": "code",
      "source": [
        "lotini['Engine_Capacity_(CC)'].replace(-1,100)"
      ],
      "metadata": {
        "id": "9LPNzOlsBOXk"
      },
      "execution_count": null,
      "outputs": []
    },
    {
      "cell_type": "code",
      "source": [
        "summary = lotini.describe()\n",
        "print(lotini.info())\n",
        "print(summary)"
      ],
      "metadata": {
        "id": "-ROdd5B_BRtD"
      },
      "execution_count": null,
      "outputs": []
    },
    {
      "cell_type": "code",
      "source": [
        "import matplotlib.pyplot as plt\n",
        "\n",
        "variables = lotini.loc[:, ['Age_of_Casualty', 'Engine_Capacity_(CC)']]\n",
        "variables.plot(x='Age_of_Casualty', y='Engine_Capacity_(CC)',color='black', style='*')\n",
        "plt.xlabel(' Age_of_Casualty')\n",
        "plt.ylabel('Engine_Capacity_(CC)')\n",
        "plt.show()\n"
      ],
      "metadata": {
        "id": "hSofW5MBBUpb"
      },
      "execution_count": null,
      "outputs": []
    },
    {
      "cell_type": "code",
      "source": [
        "from sklearn.linear_model import LinearRegression\n",
        "regressor = LinearRegression()\n",
        "X = lotini[['Age_of_Casualty']].values\n",
        "y = lotini['Engine_Capacity_(CC)'].values\n",
        "regressor.fit(X, y)\n",
        "\n",
        "lotini.plot(x='Age_of_Casualty', y='Engine_Capacity_(CC)', style='*')\n",
        "plt.plot(X, regressor.predict(X), color='red', label='Regression line')\n",
        "plt.xlabel('Age_of_Casualty')\n",
        "plt.ylabel('Engine_Capacity_(CC)')\n",
        "plt.show()\n"
      ],
      "metadata": {
        "id": "iWTVny84BZVw"
      },
      "execution_count": null,
      "outputs": []
    },
    {
      "cell_type": "code",
      "source": [
        "from sklearn.model_selection import train_test_split\n",
        "x = pd.DataFrame(lotini['Age_of_Casualty'])\n",
        "y = pd.DataFrame(lotini['Engine_Capacity_(CC)'])\n",
        "x_train, x_test, y_train, y_test = train_test_split(x, y, test_size=0.2, random_state=1)\n",
        "\n",
        "regressor = LinearRegression()\n",
        "regressor.fit(x_train, y_train)\n",
        "\n",
        "y_pred = regressor.predict(x_test)\n",
        "y_test\n"
      ],
      "metadata": {
        "id": "HAb2enj_CluK"
      },
      "execution_count": null,
      "outputs": []
    },
    {
      "cell_type": "code",
      "source": [
        "from sklearn import metrics\n",
        "import numpy as np\n",
        "mae = metrics.mean_absolute_error(y_test, y_pred)\n",
        "mse = metrics.mean_squared_error(y_test, y_pred)\n",
        "rmse = np.sqrt(mse)\n",
        "print(\"MAE\", mae)\n",
        "print(\"MSE\", mse)\n",
        "print(\"RMSE\", rmse)"
      ],
      "metadata": {
        "id": "O32WcXfmCrNb"
      },
      "execution_count": null,
      "outputs": []
    },
    {
      "cell_type": "code",
      "source": [
        "import joblib\n",
        "import pickle\n",
        "model = LinearRegression()\n",
        "model.fit(x,y)\n",
        "joblib.dump(model, 'assighnment.pkl')\n",
        "with open('assighnment.pkl', 'wb') as file:\n",
        "  pickle.dump(model, file)"
      ],
      "metadata": {
        "id": "1mmEM0DeCuRz"
      },
      "execution_count": 23,
      "outputs": []
    },
    {
      "cell_type": "code",
      "source": [
        "new_x = np.array([1,5,6,9,12,15,18,26,34,40,45]).reshape(-1,1)\n",
        "model = joblib.load('assighnment.pkl')\n",
        "predictions = model.predict(new_x)\n",
        "new_data=pd.DataFrame({'x':new_x.flatten(), 'Predicted_y': predictions.flatten()})\n",
        "print(new_data)\n"
      ],
      "metadata": {
        "id": "aHVGfsGyCxfs"
      },
      "execution_count": null,
      "outputs": []
    },
    {
      "cell_type": "code",
      "source": [],
      "metadata": {
        "id": "QQZ5ql8rA9pM"
      },
      "execution_count": null,
      "outputs": []
    }
  ]
}